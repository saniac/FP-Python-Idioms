{
 "metadata": {
  "name": ""
 },
 "nbformat": 3,
 "nbformat_minor": 0,
 "worksheets": [
  {
   "cells": [
    {
     "cell_type": "markdown",
     "metadata": {},
     "source": [
      "FP idioms in Python\n",
      "===================\n",
      "\n",
      "Preliminaries\n",
      "-------------\n",
      "A whirlwind tour of the available, the usable, and the undesirable.\n",
      "\n",
      "Uses Python3.\n",
      "\n",
      "Remember in what follows that Guido is not our friend and Pythonistas are particular about the Pythonic.\n"
     ]
    },
    {
     "cell_type": "heading",
     "level": 2,
     "metadata": {},
     "source": [
      "Baked in support"
     ]
    },
    {
     "cell_type": "markdown",
     "metadata": {},
     "source": [
      "Functions are first class types.\n",
      "\n",
      "You can make anonymous one-statement functions with the *lambda* keyword."
     ]
    },
    {
     "cell_type": "code",
     "collapsed": false,
     "input": [
      "fn = lambda x,y: x*y    # fn is a perfectly respectable function\n",
      "\n",
      "fn(2,4)"
     ],
     "language": "python",
     "metadata": {},
     "outputs": [
      {
       "metadata": {},
       "output_type": "pyout",
       "prompt_number": 1,
       "text": [
        "8"
       ]
      }
     ],
     "prompt_number": 1
    },
    {
     "cell_type": "markdown",
     "metadata": {},
     "source": [
      "Otherwise, you can define named functions with *def* that return things with *return*.\n",
      "\n",
      "Note that Python functions defined with *def* are not necessarily functions in the FP sense. They don't have to return anything and they can have side-effects."
     ]
    },
    {
     "cell_type": "code",
     "collapsed": false,
     "input": [
      "def pure_fn(x,y):\n",
      "    z = x + y\n",
      "    return z * 2\n",
      "\n",
      "def impure_fn(x):\n",
      "    print(x)\n",
      "    \n",
      "a = pure_fn\n",
      "\n",
      "print(a(5,6))"
     ],
     "language": "python",
     "metadata": {},
     "outputs": [
      {
       "output_type": "stream",
       "stream": "stdout",
       "text": [
        "22\n"
       ]
      }
     ],
     "prompt_number": 4
    },
    {
     "cell_type": "markdown",
     "metadata": {},
     "source": [
      "Functions defined with _lambda_ and functions defined with _def_ are both just plain Python functions. They just happen to have been defined with different syntax.\n",
      "\n",
      "There are builtins for some common functional idioms, in the form of *map* and *filter*. These both return \"iterables\", not lists, which can be a bit annoying."
     ]
    },
    {
     "cell_type": "code",
     "collapsed": false,
     "input": [
      "l = [5,3,5,6,1,2,9,3]\n",
      "\n",
      "set(map(lambda x: x * 2, l))   # We have to cast result to\n",
      "                                # list type with list()\n"
     ],
     "language": "python",
     "metadata": {},
     "outputs": [
      {
       "metadata": {},
       "output_type": "pyout",
       "prompt_number": 7,
       "text": [
        "{2, 4, 6, 10, 12, 18}"
       ]
      }
     ],
     "prompt_number": 7
    },
    {
     "cell_type": "code",
     "collapsed": false,
     "input": [
      "l = [5,3,5,6,1,2,9,3]\n",
      "\n",
      "list(filter(lambda x: x % 2 == 0, l))\n",
      "\n",
      "help(functools.reduce)"
     ],
     "language": "python",
     "metadata": {},
     "outputs": [
      {
       "output_type": "stream",
       "stream": "stdout",
       "text": [
        "Help on built-in function reduce in module _functools:\n",
        "\n",
        "reduce(...)\n",
        "    reduce(function, sequence[, initial]) -> value\n",
        "    \n",
        "    Apply a function of two arguments cumulatively to the items of a sequence,\n",
        "    from left to right, so as to reduce the sequence to a single value.\n",
        "    For example, reduce(lambda x, y: x+y, [1, 2, 3, 4, 5]) calculates\n",
        "    ((((1+2)+3)+4)+5).  If initial is present, it is placed before the items\n",
        "    of the sequence in the calculation, and serves as a default when the\n",
        "    sequence is empty.\n",
        "\n"
       ]
      }
     ],
     "prompt_number": 12
    },
    {
     "cell_type": "markdown",
     "metadata": {},
     "source": [
      "Up until Python3, there was also *reduce*, which you might know as \"fold\". Guido killed in in Python 3, saying that list comprehensions had eliminated the need for it and it was always a wart. \n",
      "\n",
      "List comprehensions. I like to think of a comprehension as a way to *do a thing* with some *items* if they *pass a test*."
     ]
    },
    {
     "cell_type": "code",
     "collapsed": false,
     "input": [
      "fruits = [\"apple\", \"banana\", \"avocado\"]\n",
      "\n",
      "# cf Haskell\n",
      "# [map toUpper fruit | fruit <- [\"apple\", \"banana\", \"pear\"], head fruit == 'a']\n",
      "\n",
      "[fruit.upper() for fruit in fruits if fruit[0] == \"a\"]\n",
      "\n"
     ],
     "language": "python",
     "metadata": {},
     "outputs": [
      {
       "metadata": {},
       "output_type": "pyout",
       "prompt_number": 15,
       "text": [
        "['apple', 'banana', 'avocado']"
       ]
      }
     ],
     "prompt_number": 15
    },
    {
     "cell_type": "markdown",
     "metadata": {},
     "source": [
      "Because functions are first class types, we can make functions that make functions."
     ]
    },
    {
     "cell_type": "code",
     "collapsed": false,
     "input": [
      "def adder_factory(i):\n",
      "    k = 30\n",
      "    def adder(j):\n",
      "        return i + j + k\n",
      "    \n",
      "    return adder\n",
      "    \n",
      "add5 = adder_factory(5)\n",
      "\n",
      "def adder_factory():\n",
      "    pass\n",
      "\n",
      "add5(10)\n"
     ],
     "language": "python",
     "metadata": {},
     "outputs": [
      {
       "metadata": {},
       "output_type": "pyout",
       "prompt_number": 19,
       "text": [
        "45"
       ]
      }
     ],
     "prompt_number": 19
    },
    {
     "cell_type": "markdown",
     "metadata": {},
     "source": [
      "Did I mention Python has closures?\n",
      "\n",
      "Finally, there is some nice syntactic sugar for functions that wrap other functions, called decorators."
     ]
    },
    {
     "cell_type": "code",
     "collapsed": false,
     "input": [
      "def print_args(fn):\n",
      "    def wrapped(*args):\n",
      "        print (\"Called\", fn.__name__, \"with:\", args,)\n",
      "        result = fn(*args)\n",
      "        print (\"resulting in:\", result)\n",
      "        return result\n",
      "        \n",
      "    return wrapped\n",
      "\n",
      "@print_args\n",
      "def add_nums(i, j):\n",
      "    \n",
      "    return i + j\n",
      "\n",
      "add_nums(4,5)\n"
     ],
     "language": "python",
     "metadata": {},
     "outputs": [
      {
       "output_type": "stream",
       "stream": "stdout",
       "text": [
        "Called add_nums with: (4, 5)\n",
        "resulting in: 9\n"
       ]
      },
      {
       "metadata": {},
       "output_type": "pyout",
       "prompt_number": 25,
       "text": [
        "9"
       ]
      }
     ],
     "prompt_number": 25
    },
    {
     "cell_type": "markdown",
     "metadata": {},
     "source": [
      "Note that this is a naive decorator example -- in practice, you should do things like tidy up the name of the wrapped function to help with debugging. There are whole modules of helpers for this. Python people love using decorators but are often scared of writing them, for some reason.\n",
      "\n",
      "Also, there's no need to do logging like this, but it seems to be the classic example for this kind of thing."
     ]
    },
    {
     "cell_type": "heading",
     "level": 2,
     "metadata": {},
     "source": [
      "Batteries included\n"
     ]
    },
    {
     "cell_type": "code",
     "collapsed": false,
     "input": [
      "import itertools\n",
      "import functools\n",
      "import operator\n",
      "\n",
      "list(itertools.accumulate( [1,2,3,4], operator.add))\n",
      "#help(itertools.accumulate)"
     ],
     "language": "python",
     "metadata": {},
     "outputs": [
      {
       "metadata": {},
       "output_type": "pyout",
       "prompt_number": 31,
       "text": [
        "[1, 3, 6, 10]"
       ]
      }
     ],
     "prompt_number": 31
    },
    {
     "cell_type": "markdown",
     "metadata": {},
     "source": [
      "_itertools_ mostly contains functions for working with lists -- the kind of thing you might find in the Haskell Prelude. Also includes __accumulate()__, which works like Haskell __scan__.\n",
      "\n",
      "_functools_ has helpers to set up partial application, write generic functions more easily, and make wrapped functions behave better. Also includes __reduce()__, which you may recognise as __fold__.\n",
      "\n",
      "_operator_ provides functions that are the equivalent of Python's builtin operators. Unlike say Haskell, Python operators are not functions with sugar, so you need something like this to work with them effectively in a functional style."
     ]
    },
    {
     "cell_type": "heading",
     "level": 2,
     "metadata": {},
     "source": [
      "Traps for the unwary"
     ]
    },
    {
     "cell_type": "markdown",
     "metadata": {},
     "source": [
      "The builtin list type has methods that seem like that builting functions sort and reverse. However, they do not return a transformed copy. They modify the list in place and return nothing. Every time I've been away from Python for a while, this trips me up."
     ]
    },
    {
     "cell_type": "code",
     "collapsed": false,
     "input": [
      "l = [3, 2, 5, 1]\n",
      "\n",
      "print (sorted(l))\n",
      "print (l)\n",
      "\n",
      "l.sort()\n",
      "print(l)\n",
      "\n",
      "print (list(reversed(l))) # reversed returns an iterator\n",
      "print (l)\n",
      "l.reverse()\n",
      "print (l)"
     ],
     "language": "python",
     "metadata": {},
     "outputs": [
      {
       "output_type": "stream",
       "stream": "stdout",
       "text": [
        "[1, 2, 3, 5]\n",
        "[3, 2, 5, 1]\n",
        "[1, 2, 3, 5]\n",
        "[5, 3, 2, 1]\n",
        "[1, 2, 3, 5]\n",
        "[5, 3, 2, 1]\n"
       ]
      }
     ],
     "prompt_number": 32
    },
    {
     "cell_type": "markdown",
     "metadata": {},
     "source": [
      "\n",
      "__map(function, iterable, ...)__\n",
      "\n",
      "    Return an iterator that applies function to every item of iterable, yielding the results. If additional iterable arguments are passed, function must take that many arguments and is applied to the items from all iterables in parallel. With multiple iterables, the iterator stops when the shortest iterable is exhausted. For cases where the function inputs are already arranged into argument tuples, see itertools.starmap().\n",
      "\n",
      "I'm sorry, this is just weird."
     ]
    },
    {
     "cell_type": "code",
     "collapsed": false,
     "input": [
      "list(map((lambda tup:tup[0]*tup[1]), [(2,3),(4,4)]))"
     ],
     "language": "python",
     "metadata": {},
     "outputs": [
      {
       "metadata": {},
       "output_type": "pyout",
       "prompt_number": 35,
       "text": [
        "[6, 16]"
       ]
      }
     ],
     "prompt_number": 35
    },
    {
     "cell_type": "markdown",
     "metadata": {},
     "source": [
      "Late binding can be a pain."
     ]
    },
    {
     "cell_type": "code",
     "collapsed": false,
     "input": [
      "# This example and subsequent para stolen from Brian Chikilian\n",
      "\n",
      "def create_multipliers():\n",
      "    return [lambda x : i * x for i in range(5)]\n",
      "\n",
      "for multiplier in create_multipliers():\n",
      "    print (multiplier(2))\n"
     ],
     "language": "python",
     "metadata": {},
     "outputs": [
      {
       "output_type": "stream",
       "stream": "stdout",
       "text": [
        "8\n",
        "8\n",
        "8\n",
        "8\n",
        "8\n"
       ]
      }
     ],
     "prompt_number": 36
    },
    {
     "cell_type": "markdown",
     "metadata": {},
     "source": [
      "This happens due to Python\u2019s late binding behavior which says that the values of variables used in closures are looked up at the time the inner function is called. So in the above code, whenever any of the returned functions are called, the value of i is looked up in the surrounding scope at the time it is called (and by then, the loop has completed, so i has already been assigned its final value of 4).\n",
      "\n",
      "The solution to this common Python problem is a bit of a hack."
     ]
    },
    {
     "cell_type": "code",
     "collapsed": false,
     "input": [
      "def create_multipliers():\n",
      "    return [lambda x, i=i : i * x for i in range(5)]\n",
      "\n",
      "for multiplier in create_multipliers():\n",
      "    print (multiplier(2))"
     ],
     "language": "python",
     "metadata": {},
     "outputs": [
      {
       "output_type": "stream",
       "stream": "stdout",
       "text": [
        "0\n",
        "2\n",
        "4\n",
        "6\n",
        "8\n"
       ]
      }
     ],
     "prompt_number": 37
    },
    {
     "cell_type": "markdown",
     "metadata": {},
     "source": [
      "Things you might like to do but probably shouldn't\n",
      "--------------------------------------------------\n",
      "\n",
      "- use recursive algorithms from your FP textbooks without careful thought. (Why? No tail call optimisation in standard interpreter).\n",
      "- roll your own compose. (Why? No help from the type system, and it's really unidiomatic).\n",
      "- nest lambdas or even use them except as arguments to other functions. (Again, not Pythonic).\n",
      "- use reduce in complex ways. (Sigh, not Pythonic -- explicit loops are regarded as a good thing).\n",
      "- pile up too many function calls without intermediate variables. (Why? Because tracebacks aren't helpful.)\n",
      "\n",
      "However, if you want your co-workers to hate you, you can do what one guy did, and abuse Python's ability to override operators to allow the creation of code in point free style:\n",
      "\n",
      "Pipe is a Python module enabling infix syntax in Python.\n",
      "For those asking \u201cWhy ?\u201d let\u2019s take an example :\n",
      "\n",
      "Compare the readability of the classical prefix syntax :\n",
      "\n",
      "    sum(select(where(take_while(fib(), lambda x: x < 1000000) lambda x: x % 2), lambda x: x * x))\n",
      "\n",
      "And the infix syntax :\n",
      "\n",
      "    fib() | take_while(lambda x: x < 1000000) \\\n",
      "          | where(lambda x: x % 2) \\\n",
      "          | select(lambda x: x * x) \\\n",
      "          | sum()\n",
      "\n",
      "Isn\u2019t the infix syntax more readable ?\n",
      "\n"
     ]
    },
    {
     "cell_type": "markdown",
     "metadata": {},
     "source": [
      "References:\n",
      "\n",
      "- https://docs.python.org/3.4/howto/functional.html\n",
      "- http://www.artima.com/weblogs/viewpost.jsp?thread=98196\n",
      "- http://www.toptal.com/python/top-10-mistakes-that-python-programmers-make\n",
      "- http://dev-tricks.net/pipe-infix-syntax-for-python"
     ]
    }
   ],
   "metadata": {}
  }
 ]
}