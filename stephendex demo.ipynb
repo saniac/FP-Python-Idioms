{
 "metadata": {
  "name": "",
  "signature": "sha256:4ee37c781c12f8a7144761ba4aeb80dfc1fe664ed8bd19ea77a684f6b64e0d1c"
 },
 "nbformat": 3,
 "nbformat_minor": 0,
 "worksheets": [
  {
   "cells": [
    {
     "cell_type": "code",
     "collapsed": false,
     "input": [
      "# Calculating the Stephendex.\n",
      "#\n",
      "# Stephendex comprises stock codes and holding sizes:\n",
      "#   CNU.NZ,1000\n",
      "#   SPK.NZ,1200\n",
      "#   HLG.NZ,800\n",
      "#   XRO.NZ,1400\n",
      "#   TOL.AX,900\n",
      "\n",
      "import functools\n",
      "import operator\n",
      "import requests\n",
      "\n",
      "def print_args(fn):\n",
      "    def wrapped(*args):\n",
      "        print (\"Called\", fn.__name__, \"with:\", args,)\n",
      "        result = fn(*args)\n",
      "        print (\"resulting in:\", result)\n",
      "        return result\n",
      "    return wrapped\n",
      "\n",
      "@print_args\n",
      "def first_n_fields(num, line):\n",
      "    return line.split(',')[0:num]\n",
      "\n",
      "first_two_fields = functools.partial(first_n_fields, 2) # mmm, delicious curry\n",
      "\n",
      "@print_args\n",
      "def read_holdings_file(filename):\n",
      "    with open(filename) as f:\n",
      "        return list( map(first_two_fields, [line.strip() for line in f.readlines()]))\n",
      "\n",
      "@print_args\n",
      "def fetch_quotes(codes):\n",
      "    url = \"http://download.finance.yahoo.com/d/quotes.csv?s=%s&f=sl1\" % \",\".join(codes)\n",
      "    response = requests.get(url)\n",
      "    # test for comma is basic sanity check, god i'm lazy\n",
      "    return list(map(float, [first_two_fields(line)[1] for line in response.text.split(\"\\n\") if \",\" in line]))\n",
      "\n",
      "holdings = read_holdings_file(\"stephendex\")\n",
      "\n",
      "# Now to make other people hate us: useless use of reduce since we have sum, and a parenthesis pileup.\n",
      "functools.reduce(lambda x,y:x+y,(map(operator.mul,\n",
      "        [int(fields[1]) for fields in holdings],\n",
      "        #fetch_quotes([fields[0] for fields in holdings])\n",
      "        fetch_quotes([fields[1] for fields in holdings])\n",
      "        )\n",
      "    )\n",
      ")"
     ],
     "language": "python",
     "metadata": {},
     "outputs": [
      {
       "output_type": "stream",
       "stream": "stdout",
       "text": [
        "Called read_holdings_file with: ('stephendex',)\n",
        "Called first_n_fields with: (2, 'CNU.NZ,1000')\n",
        "resulting in: ['CNU.NZ', '1000']\n",
        "Called first_n_fields with: (2, 'SPK.NZ,1200')\n",
        "resulting in: ['SPK.NZ', '1200']\n",
        "Called first_n_fields with: (2, 'HLG.NZ,800')\n",
        "resulting in: ['HLG.NZ', '800']\n",
        "Called first_n_fields with: (2, 'XRO.NZ,1400')\n",
        "resulting in: ['XRO.NZ', '1400']\n",
        "Called first_n_fields with: (2, 'TOL.AX,900')\n",
        "resulting in: ['TOL.AX', '900']\n",
        "resulting in: [['CNU.NZ', '1000'], ['SPK.NZ', '1200'], ['HLG.NZ', '800'], ['XRO.NZ', '1400'], ['TOL.AX', '900']]\n",
        "Called fetch_quotes with: (['1000', '1200', '800', '1400', '900'],)\n",
        "Called"
       ]
      },
      {
       "ename": "ValueError",
       "evalue": "could not convert string to float: 'N/A'",
       "output_type": "pyerr",
       "traceback": [
        "\u001b[0;31m---------------------------------------------------------------------------\u001b[0m\n\u001b[0;31mValueError\u001b[0m                                Traceback (most recent call last)",
        "\u001b[0;32m<ipython-input-2-f5157c19a46e>\u001b[0m in \u001b[0;36m<module>\u001b[0;34m()\u001b[0m\n\u001b[1;32m     44\u001b[0m         \u001b[0;34m[\u001b[0m\u001b[0mint\u001b[0m\u001b[0;34m(\u001b[0m\u001b[0mfields\u001b[0m\u001b[0;34m[\u001b[0m\u001b[0;36m1\u001b[0m\u001b[0;34m]\u001b[0m\u001b[0;34m)\u001b[0m \u001b[0;32mfor\u001b[0m \u001b[0mfields\u001b[0m \u001b[0;32min\u001b[0m \u001b[0mholdings\u001b[0m\u001b[0;34m]\u001b[0m\u001b[0;34m,\u001b[0m\u001b[0;34m\u001b[0m\u001b[0m\n\u001b[1;32m     45\u001b[0m         \u001b[0;31m#fetch_quotes([fields[0] for fields in holdings])\u001b[0m\u001b[0;34m\u001b[0m\u001b[0;34m\u001b[0m\u001b[0m\n\u001b[0;32m---> 46\u001b[0;31m         \u001b[0mfetch_quotes\u001b[0m\u001b[0;34m(\u001b[0m\u001b[0;34m[\u001b[0m\u001b[0mfields\u001b[0m\u001b[0;34m[\u001b[0m\u001b[0;36m1\u001b[0m\u001b[0;34m]\u001b[0m \u001b[0;32mfor\u001b[0m \u001b[0mfields\u001b[0m \u001b[0;32min\u001b[0m \u001b[0mholdings\u001b[0m\u001b[0;34m]\u001b[0m\u001b[0;34m)\u001b[0m\u001b[0;34m\u001b[0m\u001b[0m\n\u001b[0m\u001b[1;32m     47\u001b[0m         )\n\u001b[1;32m     48\u001b[0m     )\n",
        "\u001b[0;32m<ipython-input-2-f5157c19a46e>\u001b[0m in \u001b[0;36mwrapped\u001b[0;34m(*args)\u001b[0m\n\u001b[1;32m     15\u001b[0m     \u001b[0;32mdef\u001b[0m \u001b[0mwrapped\u001b[0m\u001b[0;34m(\u001b[0m\u001b[0;34m*\u001b[0m\u001b[0margs\u001b[0m\u001b[0;34m)\u001b[0m\u001b[0;34m:\u001b[0m\u001b[0;34m\u001b[0m\u001b[0m\n\u001b[1;32m     16\u001b[0m         \u001b[0mprint\u001b[0m \u001b[0;34m(\u001b[0m\u001b[0;34m\"Called\"\u001b[0m\u001b[0;34m,\u001b[0m \u001b[0mfn\u001b[0m\u001b[0;34m.\u001b[0m\u001b[0m__name__\u001b[0m\u001b[0;34m,\u001b[0m \u001b[0;34m\"with:\"\u001b[0m\u001b[0;34m,\u001b[0m \u001b[0margs\u001b[0m\u001b[0;34m,\u001b[0m\u001b[0;34m)\u001b[0m\u001b[0;34m\u001b[0m\u001b[0m\n\u001b[0;32m---> 17\u001b[0;31m         \u001b[0mresult\u001b[0m \u001b[0;34m=\u001b[0m \u001b[0mfn\u001b[0m\u001b[0;34m(\u001b[0m\u001b[0;34m*\u001b[0m\u001b[0margs\u001b[0m\u001b[0;34m)\u001b[0m\u001b[0;34m\u001b[0m\u001b[0m\n\u001b[0m\u001b[1;32m     18\u001b[0m         \u001b[0mprint\u001b[0m \u001b[0;34m(\u001b[0m\u001b[0;34m\"resulting in:\"\u001b[0m\u001b[0;34m,\u001b[0m \u001b[0mresult\u001b[0m\u001b[0;34m)\u001b[0m\u001b[0;34m\u001b[0m\u001b[0m\n\u001b[1;32m     19\u001b[0m         \u001b[0;32mreturn\u001b[0m \u001b[0mresult\u001b[0m\u001b[0;34m\u001b[0m\u001b[0m\n",
        "\u001b[0;32m<ipython-input-2-f5157c19a46e>\u001b[0m in \u001b[0;36mfetch_quotes\u001b[0;34m(codes)\u001b[0m\n\u001b[1;32m     36\u001b[0m     \u001b[0mresponse\u001b[0m \u001b[0;34m=\u001b[0m \u001b[0mrequests\u001b[0m\u001b[0;34m.\u001b[0m\u001b[0mget\u001b[0m\u001b[0;34m(\u001b[0m\u001b[0murl\u001b[0m\u001b[0;34m)\u001b[0m\u001b[0;34m\u001b[0m\u001b[0m\n\u001b[1;32m     37\u001b[0m     \u001b[0;31m# test for comma is basic sanity check, god i'm lazy\u001b[0m\u001b[0;34m\u001b[0m\u001b[0;34m\u001b[0m\u001b[0m\n\u001b[0;32m---> 38\u001b[0;31m     \u001b[0;32mreturn\u001b[0m \u001b[0mlist\u001b[0m\u001b[0;34m(\u001b[0m\u001b[0mmap\u001b[0m\u001b[0;34m(\u001b[0m\u001b[0mfloat\u001b[0m\u001b[0;34m,\u001b[0m \u001b[0;34m[\u001b[0m\u001b[0mfirst_two_fields\u001b[0m\u001b[0;34m(\u001b[0m\u001b[0mline\u001b[0m\u001b[0;34m)\u001b[0m\u001b[0;34m[\u001b[0m\u001b[0;36m1\u001b[0m\u001b[0;34m]\u001b[0m \u001b[0;32mfor\u001b[0m \u001b[0mline\u001b[0m \u001b[0;32min\u001b[0m \u001b[0mresponse\u001b[0m\u001b[0;34m.\u001b[0m\u001b[0mtext\u001b[0m\u001b[0;34m.\u001b[0m\u001b[0msplit\u001b[0m\u001b[0;34m(\u001b[0m\u001b[0;34m\"\\n\"\u001b[0m\u001b[0;34m)\u001b[0m \u001b[0;32mif\u001b[0m \u001b[0;34m\",\"\u001b[0m \u001b[0;32min\u001b[0m \u001b[0mline\u001b[0m\u001b[0;34m]\u001b[0m\u001b[0;34m)\u001b[0m\u001b[0;34m)\u001b[0m\u001b[0;34m\u001b[0m\u001b[0m\n\u001b[0m\u001b[1;32m     39\u001b[0m \u001b[0;34m\u001b[0m\u001b[0m\n\u001b[1;32m     40\u001b[0m \u001b[0mholdings\u001b[0m \u001b[0;34m=\u001b[0m \u001b[0mread_holdings_file\u001b[0m\u001b[0;34m(\u001b[0m\u001b[0;34m\"stephendex\"\u001b[0m\u001b[0;34m)\u001b[0m\u001b[0;34m\u001b[0m\u001b[0m\n",
        "\u001b[0;31mValueError\u001b[0m: could not convert string to float: 'N/A'"
       ]
      },
      {
       "output_type": "stream",
       "stream": "stdout",
       "text": [
        " first_n_fields with: (2, '\"1000\",N/A')\n",
        "resulting in: ['\"1000\"', 'N/A']\n",
        "Called first_n_fields with: (2, '\"1200\",N/A')\n",
        "resulting in: ['\"1200\"', 'N/A']\n",
        "Called first_n_fields with: (2, '\"800\",N/A')\n",
        "resulting in: ['\"800\"', 'N/A']\n",
        "Called first_n_fields with: (2, '\"1400\",N/A')\n",
        "resulting in: ['\"1400\"', 'N/A']\n",
        "Called first_n_fields with: (2, '\"900\",N/A')\n",
        "resulting in: ['\"900\"', 'N/A']\n"
       ]
      }
     ],
     "prompt_number": 2
    },
    {
     "cell_type": "code",
     "collapsed": false,
     "input": [],
     "language": "python",
     "metadata": {},
     "outputs": []
    }
   ],
   "metadata": {}
  }
 ]
}