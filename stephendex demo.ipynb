{
 "metadata": {
  "name": "",
  "signature": "sha256:93e5775a2a23dfeea473c3ca37ad4a62e88bf340a3caf9914f9b799991dd3d79"
 },
 "nbformat": 3,
 "nbformat_minor": 0,
 "worksheets": [
  {
   "cells": [
    {
     "cell_type": "code",
     "collapsed": false,
     "input": [
      "# Calculating the Stephendex.\n",
      "#\n",
      "# Stephendex comprises stock codes and holding sizes:\n",
      "#   CNU.NZ,1000\n",
      "#   SPK.NZ,1200\n",
      "#   HLG.NZ,800\n",
      "#   XRO.NZ,1400\n",
      "\n",
      "import functools\n",
      "import operator\n",
      "import requests\n",
      "\n",
      "def print_args(fn):\n",
      "    def wrapped(*args):\n",
      "        print (\"Called\", fn.__name__, \"with:\", args,)\n",
      "        result = fn(*args)\n",
      "        print (\"resulting in:\", result)\n",
      "        return result\n",
      "    return wrapped\n",
      "\n",
      "@print_args\n",
      "def first_n_fields(num, line):\n",
      "    return line.split(',')[0:num]\n",
      "\n",
      "first_two_fields = functools.partial(first_n_fields, 2) # mmm, delicious curry\n",
      "\n",
      "@print_args\n",
      "def read_holdings_file(filename):\n",
      "    with open(filename) as f:\n",
      "        return list( map(first_two_fields, [line.strip() for line in f.readlines()]))\n",
      "\n",
      "@print_args\n",
      "def fetch_quotes(codes):\n",
      "    url = \"http://download.finance.yahoo.com/d/quotes.csv?s=%s&f=sl1\" % \",\".join(codes)\n",
      "    response = requests.get(url)\n",
      "    # test for comma is basic sanity check, god i'm lazy\n",
      "    return list(map(float, [first_two_fields(line)[1] for line in response.text.split(\"\\n\") if \",\" in line]))\n",
      "\n",
      "holdings = read_holdings_file(\"stephendex\")\n",
      "\n",
      "# Now to make other people hate us: useless use of reduce since we have sum, and a parenthesis pileup.\n",
      "functools.reduce(lambda x,y:x+y,(map(operator.mul,\n",
      "        [int(fields[1]) for fields in holdings],\n",
      "        fetch_quotes([fields[0] for fields in holdings])\n",
      "        )\n",
      "    )\n",
      ")"
     ],
     "language": "python",
     "metadata": {},
     "outputs": [
      {
       "output_type": "stream",
       "stream": "stdout",
       "text": [
        "Called read_holdings_file with: ('stephendex',)\n",
        "Called first_n_fields with: (2, 'CNU.NZ,1000')\n",
        "resulting in: ['CNU.NZ', '1000']\n",
        "Called first_n_fields with: (2, 'SPK.NZ,1200')\n",
        "resulting in: ['SPK.NZ', '1200']\n",
        "Called first_n_fields with: (2, 'HLG.NZ,800')\n",
        "resulting in: ['HLG.NZ', '800']\n",
        "Called first_n_fields with: (2, 'XRO.NZ,1400')\n",
        "resulting in: ['XRO.NZ', '1400']\n",
        "resulting in: [['CNU.NZ', '1000'], ['SPK.NZ', '1200'], ['HLG.NZ', '800'], ['XRO.NZ', '1400']]\n",
        "Called fetch_quotes with: (['CNU.NZ', 'SPK.NZ', 'HLG.NZ', 'XRO.NZ'],)\n",
        "Called"
       ]
      },
      {
       "output_type": "stream",
       "stream": "stdout",
       "text": [
        " first_n_fields with: (2, '\"CNU.NZ\",3.03')\n",
        "resulting in: ['\"CNU.NZ\"', '3.03']\n",
        "Called first_n_fields with: (2, '\"SPK.NZ\",2.82')\n",
        "resulting in: ['\"SPK.NZ\"', '2.82']\n",
        "Called first_n_fields with: (2, '\"HLG.NZ\",3.45')\n",
        "resulting in: ['\"HLG.NZ\"', '3.45']\n",
        "Called first_n_fields with: (2, '\"XRO.NZ\",18.68')\n",
        "resulting in: ['\"XRO.NZ\"', '18.68']\n",
        "resulting in: [3.03, 2.82, 3.45, 18.68]\n"
       ]
      },
      {
       "metadata": {},
       "output_type": "pyout",
       "prompt_number": 1,
       "text": [
        "35326.0"
       ]
      }
     ],
     "prompt_number": 1
    },
    {
     "cell_type": "code",
     "collapsed": false,
     "input": [],
     "language": "python",
     "metadata": {},
     "outputs": []
    }
   ],
   "metadata": {}
  }
 ]
}